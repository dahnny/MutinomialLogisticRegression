{
 "cells": [
  {
   "cell_type": "code",
   "execution_count": 30,
   "metadata": {},
   "outputs": [],
   "source": [
    "import tensorflow as tf"
   ]
  },
  {
   "cell_type": "code",
   "execution_count": 31,
   "metadata": {},
   "outputs": [],
   "source": [
    "zero_tensor = tf.zeros([3])"
   ]
  },
  {
   "cell_type": "code",
   "execution_count": 32,
   "metadata": {},
   "outputs": [
    {
     "data": {
      "text/plain": [
       "<tf.Tensor 'zeros_1:0' shape=(3,) dtype=float32>"
      ]
     },
     "execution_count": 32,
     "metadata": {},
     "output_type": "execute_result"
    }
   ],
   "source": [
    "zero_tensor"
   ]
  },
  {
   "cell_type": "code",
   "execution_count": 33,
   "metadata": {},
   "outputs": [],
   "source": [
    "const_a = tf.constant(3.6)\n",
    "const_b = tf.constant(1.2)\n",
    "\n",
    "total = const_a + const_b\n",
    "\n",
    "rand_a = tf.random_normal([3], 2.0)\n",
    "rand_b = tf.random_uniform([3], 1.0, 4.0)\n",
    "\n",
    "diff = tf.subtract(rand_a, rand_b)\n",
    "\n",
    "vec_a = tf.linspace(0.0, 3.0, 4)\n",
    "vec_b = tf.fill([4, 1], 2.0)\n",
    "prod = tf.multiply(vec_a, vec_b)\n",
    "dot = tf.tensordot(vec_a, vec_b,1)\n",
    "\n",
    "with tf.Session() as sess:\n",
    "    print(sess.run(total))\n",
    "    print(sess.run(diff))\n",
    "    print(sess.run(vec_a))\n",
    "    print(sess.run(vec_b))\n",
    "    print(sess.run(prod))\n",
    "    print(sess.run(dot))"
   ]
  },
  {
   "cell_type": "code",
   "execution_count": 39,
   "metadata": {},
   "outputs": [
    {
     "name": "stdout",
     "output_type": "stream",
     "text": [
      "[<tf.Operation 'zeros' type=Const>, <tf.Operation 'Const' type=Const>, <tf.Operation 'Const_1' type=Const>, <tf.Operation 'Const_2' type=Const>, <tf.Operation 'Const_3' type=Const>, <tf.Operation 'add' type=Add>, <tf.Operation 'Const_4' type=Const>, <tf.Operation 'Const_5' type=Const>, <tf.Operation 'add_1' type=Add>, <tf.Operation 'Const_6' type=Const>, <tf.Operation 'Const_7' type=Const>, <tf.Operation 'add_2' type=Add>, <tf.Operation 'random_normal/shape' type=Const>, <tf.Operation 'random_normal/mean' type=Const>, <tf.Operation 'random_normal/stddev' type=Const>, <tf.Operation 'random_normal/RandomStandardNormal' type=RandomStandardNormal>, <tf.Operation 'random_normal/mul' type=Mul>, <tf.Operation 'random_normal' type=Add>, <tf.Operation 'random_uniform/shape' type=Const>, <tf.Operation 'random_uniform/min' type=Const>, <tf.Operation 'random_uniform/max' type=Const>, <tf.Operation 'random_uniform/RandomUniform' type=RandomUniform>, <tf.Operation 'random_uniform/sub' type=Sub>, <tf.Operation 'random_uniform/mul' type=Mul>, <tf.Operation 'random_uniform' type=Add>, <tf.Operation 'Const_8' type=Const>, <tf.Operation 'Const_9' type=Const>, <tf.Operation 'add_3' type=Add>, <tf.Operation 'random_normal_1/shape' type=Const>, <tf.Operation 'random_normal_1/mean' type=Const>, <tf.Operation 'random_normal_1/stddev' type=Const>, <tf.Operation 'random_normal_1/RandomStandardNormal' type=RandomStandardNormal>, <tf.Operation 'random_normal_1/mul' type=Mul>, <tf.Operation 'random_normal_1' type=Add>, <tf.Operation 'random_uniform_1/shape' type=Const>, <tf.Operation 'random_uniform_1/min' type=Const>, <tf.Operation 'random_uniform_1/max' type=Const>, <tf.Operation 'random_uniform_1/RandomUniform' type=RandomUniform>, <tf.Operation 'random_uniform_1/sub' type=Sub>, <tf.Operation 'random_uniform_1/mul' type=Mul>, <tf.Operation 'random_uniform_1' type=Add>, <tf.Operation 'Const_10' type=Const>, <tf.Operation 'Const_11' type=Const>, <tf.Operation 'add_4' type=Add>, <tf.Operation 'random_normal_2/shape' type=Const>, <tf.Operation 'random_normal_2/mean' type=Const>, <tf.Operation 'random_normal_2/stddev' type=Const>, <tf.Operation 'random_normal_2/RandomStandardNormal' type=RandomStandardNormal>, <tf.Operation 'random_normal_2/mul' type=Mul>, <tf.Operation 'random_normal_2' type=Add>, <tf.Operation 'random_uniform_2/shape' type=Const>, <tf.Operation 'random_uniform_2/min' type=Const>, <tf.Operation 'random_uniform_2/max' type=Const>, <tf.Operation 'random_uniform_2/RandomUniform' type=RandomUniform>, <tf.Operation 'random_uniform_2/sub' type=Sub>, <tf.Operation 'random_uniform_2/mul' type=Mul>, <tf.Operation 'random_uniform_2' type=Add>, <tf.Operation 'Const_12' type=Const>, <tf.Operation 'Const_13' type=Const>, <tf.Operation 'add_5' type=Add>, <tf.Operation 'random_normal_3/shape' type=Const>, <tf.Operation 'random_normal_3/mean' type=Const>, <tf.Operation 'random_normal_3/stddev' type=Const>, <tf.Operation 'random_normal_3/RandomStandardNormal' type=RandomStandardNormal>, <tf.Operation 'random_normal_3/mul' type=Mul>, <tf.Operation 'random_normal_3' type=Add>, <tf.Operation 'random_uniform_3/shape' type=Const>, <tf.Operation 'random_uniform_3/min' type=Const>, <tf.Operation 'random_uniform_3/max' type=Const>, <tf.Operation 'random_uniform_3/RandomUniform' type=RandomUniform>, <tf.Operation 'random_uniform_3/sub' type=Sub>, <tf.Operation 'random_uniform_3/mul' type=Mul>, <tf.Operation 'random_uniform_3' type=Add>, <tf.Operation 'Const_14' type=Const>, <tf.Operation 'Const_15' type=Const>, <tf.Operation 'add_6' type=Add>, <tf.Operation 'random_normal_4/shape' type=Const>, <tf.Operation 'random_normal_4/mean' type=Const>, <tf.Operation 'random_normal_4/stddev' type=Const>, <tf.Operation 'random_normal_4/RandomStandardNormal' type=RandomStandardNormal>, <tf.Operation 'random_normal_4/mul' type=Mul>, <tf.Operation 'random_normal_4' type=Add>, <tf.Operation 'random_uniform_4/shape' type=Const>, <tf.Operation 'random_uniform_4/min' type=Const>, <tf.Operation 'random_uniform_4/max' type=Const>, <tf.Operation 'random_uniform_4/RandomUniform' type=RandomUniform>, <tf.Operation 'random_uniform_4/sub' type=Sub>, <tf.Operation 'random_uniform_4/mul' type=Mul>, <tf.Operation 'random_uniform_4' type=Add>, <tf.Operation 'Const_16' type=Const>, <tf.Operation 'Const_17' type=Const>, <tf.Operation 'add_7' type=Add>, <tf.Operation 'random_normal_5/shape' type=Const>, <tf.Operation 'random_normal_5/mean' type=Const>, <tf.Operation 'random_normal_5/stddev' type=Const>, <tf.Operation 'random_normal_5/RandomStandardNormal' type=RandomStandardNormal>, <tf.Operation 'random_normal_5/mul' type=Mul>, <tf.Operation 'random_normal_5' type=Add>, <tf.Operation 'random_uniform_5/shape' type=Const>, <tf.Operation 'random_uniform_5/min' type=Const>, <tf.Operation 'random_uniform_5/max' type=Const>, <tf.Operation 'random_uniform_5/RandomUniform' type=RandomUniform>, <tf.Operation 'random_uniform_5/sub' type=Sub>, <tf.Operation 'random_uniform_5/mul' type=Mul>, <tf.Operation 'random_uniform_5' type=Add>, <tf.Operation 'Const_18' type=Const>, <tf.Operation 'Const_19' type=Const>, <tf.Operation 'add_8' type=Add>, <tf.Operation 'random_normal_6/shape' type=Const>, <tf.Operation 'random_normal_6/mean' type=Const>, <tf.Operation 'random_normal_6/stddev' type=Const>, <tf.Operation 'random_normal_6/RandomStandardNormal' type=RandomStandardNormal>, <tf.Operation 'random_normal_6/mul' type=Mul>, <tf.Operation 'random_normal_6' type=Add>, <tf.Operation 'random_uniform_6/shape' type=Const>, <tf.Operation 'random_uniform_6/min' type=Const>, <tf.Operation 'random_uniform_6/max' type=Const>, <tf.Operation 'random_uniform_6/RandomUniform' type=RandomUniform>, <tf.Operation 'random_uniform_6/sub' type=Sub>, <tf.Operation 'random_uniform_6/mul' type=Mul>, <tf.Operation 'random_uniform_6' type=Add>, <tf.Operation 'Const_20' type=Const>, <tf.Operation 'Const_21' type=Const>, <tf.Operation 'add_9' type=Add>, <tf.Operation 'random_normal_7/shape' type=Const>, <tf.Operation 'random_normal_7/mean' type=Const>, <tf.Operation 'random_normal_7/stddev' type=Const>, <tf.Operation 'random_normal_7/RandomStandardNormal' type=RandomStandardNormal>, <tf.Operation 'random_normal_7/mul' type=Mul>, <tf.Operation 'random_normal_7' type=Add>, <tf.Operation 'random_uniform_7/shape' type=Const>, <tf.Operation 'random_uniform_7/min' type=Const>, <tf.Operation 'random_uniform_7/max' type=Const>, <tf.Operation 'random_uniform_7/RandomUniform' type=RandomUniform>, <tf.Operation 'random_uniform_7/sub' type=Sub>, <tf.Operation 'random_uniform_7/mul' type=Mul>, <tf.Operation 'random_uniform_7' type=Add>, <tf.Operation 'Const_22' type=Const>, <tf.Operation 'Const_23' type=Const>, <tf.Operation 'add_10' type=Add>, <tf.Operation 'random_normal_8/shape' type=Const>, <tf.Operation 'random_normal_8/mean' type=Const>, <tf.Operation 'random_normal_8/stddev' type=Const>, <tf.Operation 'random_normal_8/RandomStandardNormal' type=RandomStandardNormal>, <tf.Operation 'random_normal_8/mul' type=Mul>, <tf.Operation 'random_normal_8' type=Add>, <tf.Operation 'random_uniform_8/shape' type=Const>, <tf.Operation 'random_uniform_8/min' type=Const>, <tf.Operation 'random_uniform_8/max' type=Const>, <tf.Operation 'random_uniform_8/RandomUniform' type=RandomUniform>, <tf.Operation 'random_uniform_8/sub' type=Sub>, <tf.Operation 'random_uniform_8/mul' type=Mul>, <tf.Operation 'random_uniform_8' type=Add>, <tf.Operation 'Const_24' type=Const>, <tf.Operation 'Const_25' type=Const>, <tf.Operation 'add_11' type=Add>, <tf.Operation 'random_normal_9/shape' type=Const>, <tf.Operation 'random_normal_9/mean' type=Const>, <tf.Operation 'random_normal_9/stddev' type=Const>, <tf.Operation 'random_normal_9/RandomStandardNormal' type=RandomStandardNormal>, <tf.Operation 'random_normal_9/mul' type=Mul>, <tf.Operation 'random_normal_9' type=Add>, <tf.Operation 'random_uniform_9/shape' type=Const>, <tf.Operation 'random_uniform_9/min' type=Const>, <tf.Operation 'random_uniform_9/max' type=Const>, <tf.Operation 'random_uniform_9/RandomUniform' type=RandomUniform>, <tf.Operation 'random_uniform_9/sub' type=Sub>, <tf.Operation 'random_uniform_9/mul' type=Mul>, <tf.Operation 'random_uniform_9' type=Add>, <tf.Operation 'Const_26' type=Const>, <tf.Operation 'Const_27' type=Const>, <tf.Operation 'add_12' type=Add>, <tf.Operation 'random_normal_10/shape' type=Const>, <tf.Operation 'random_normal_10/mean' type=Const>, <tf.Operation 'random_normal_10/stddev' type=Const>, <tf.Operation 'random_normal_10/RandomStandardNormal' type=RandomStandardNormal>, <tf.Operation 'random_normal_10/mul' type=Mul>, <tf.Operation 'random_normal_10' type=Add>, <tf.Operation 'random_uniform_10/shape' type=Const>, <tf.Operation 'random_uniform_10/min' type=Const>, <tf.Operation 'random_uniform_10/max' type=Const>, <tf.Operation 'random_uniform_10/RandomUniform' type=RandomUniform>, <tf.Operation 'random_uniform_10/sub' type=Sub>, <tf.Operation 'random_uniform_10/mul' type=Mul>, <tf.Operation 'random_uniform_10' type=Add>, <tf.Operation 'Const_28' type=Const>, <tf.Operation 'Const_29' type=Const>, <tf.Operation 'add_13' type=Add>, <tf.Operation 'random_normal_11/shape' type=Const>, <tf.Operation 'random_normal_11/mean' type=Const>, <tf.Operation 'random_normal_11/stddev' type=Const>, <tf.Operation 'random_normal_11/RandomStandardNormal' type=RandomStandardNormal>, <tf.Operation 'random_normal_11/mul' type=Mul>, <tf.Operation 'random_normal_11' type=Add>, <tf.Operation 'random_uniform_11/shape' type=Const>, <tf.Operation 'random_uniform_11/min' type=Const>, <tf.Operation 'random_uniform_11/max' type=Const>, <tf.Operation 'random_uniform_11/RandomUniform' type=RandomUniform>, <tf.Operation 'random_uniform_11/sub' type=Sub>, <tf.Operation 'random_uniform_11/mul' type=Mul>, <tf.Operation 'random_uniform_11' type=Add>, <tf.Operation 'Const_30' type=Const>, <tf.Operation 'Const_31' type=Const>, <tf.Operation 'add_14' type=Add>, <tf.Operation 'random_normal_12/shape' type=Const>, <tf.Operation 'random_normal_12/mean' type=Const>, <tf.Operation 'random_normal_12/stddev' type=Const>, <tf.Operation 'random_normal_12/RandomStandardNormal' type=RandomStandardNormal>, <tf.Operation 'random_normal_12/mul' type=Mul>, <tf.Operation 'random_normal_12' type=Add>, <tf.Operation 'random_uniform_12/shape' type=Const>, <tf.Operation 'random_uniform_12/min' type=Const>, <tf.Operation 'random_uniform_12/max' type=Const>, <tf.Operation 'random_uniform_12/RandomUniform' type=RandomUniform>, <tf.Operation 'random_uniform_12/sub' type=Sub>, <tf.Operation 'random_uniform_12/mul' type=Mul>, <tf.Operation 'random_uniform_12' type=Add>, <tf.Operation 'Const_32' type=Const>, <tf.Operation 'Const_33' type=Const>, <tf.Operation 'add_15' type=Add>, <tf.Operation 'random_normal_13/shape' type=Const>, <tf.Operation 'random_normal_13/mean' type=Const>, <tf.Operation 'random_normal_13/stddev' type=Const>, <tf.Operation 'random_normal_13/RandomStandardNormal' type=RandomStandardNormal>, <tf.Operation 'random_normal_13/mul' type=Mul>, <tf.Operation 'random_normal_13' type=Add>, <tf.Operation 'random_uniform_13/shape' type=Const>, <tf.Operation 'random_uniform_13/min' type=Const>, <tf.Operation 'random_uniform_13/max' type=Const>, <tf.Operation 'random_uniform_13/RandomUniform' type=RandomUniform>, <tf.Operation 'random_uniform_13/sub' type=Sub>, <tf.Operation 'random_uniform_13/mul' type=Mul>, <tf.Operation 'random_uniform_13' type=Add>, <tf.Operation 'Sub' type=Sub>, <tf.Operation 'Const_34' type=Const>, <tf.Operation 'Const_35' type=Const>, <tf.Operation 'add_16' type=Add>, <tf.Operation 'random_normal_14/shape' type=Const>, <tf.Operation 'random_normal_14/mean' type=Const>, <tf.Operation 'random_normal_14/stddev' type=Const>, <tf.Operation 'random_normal_14/RandomStandardNormal' type=RandomStandardNormal>, <tf.Operation 'random_normal_14/mul' type=Mul>, <tf.Operation 'random_normal_14' type=Add>, <tf.Operation 'random_uniform_14/shape' type=Const>, <tf.Operation 'random_uniform_14/min' type=Const>, <tf.Operation 'random_uniform_14/max' type=Const>, <tf.Operation 'random_uniform_14/RandomUniform' type=RandomUniform>, <tf.Operation 'random_uniform_14/sub' type=Sub>, <tf.Operation 'random_uniform_14/mul' type=Mul>, <tf.Operation 'random_uniform_14' type=Add>, <tf.Operation 'Sub_1' type=Sub>, <tf.Operation 'Const_36' type=Const>, <tf.Operation 'Const_37' type=Const>, <tf.Operation 'add_17' type=Add>, <tf.Operation 'random_normal_15/shape' type=Const>, <tf.Operation 'random_normal_15/mean' type=Const>, <tf.Operation 'random_normal_15/stddev' type=Const>, <tf.Operation 'random_normal_15/RandomStandardNormal' type=RandomStandardNormal>, <tf.Operation 'random_normal_15/mul' type=Mul>, <tf.Operation 'random_normal_15' type=Add>, <tf.Operation 'random_uniform_15/shape' type=Const>, <tf.Operation 'random_uniform_15/min' type=Const>, <tf.Operation 'random_uniform_15/max' type=Const>, <tf.Operation 'random_uniform_15/RandomUniform' type=RandomUniform>, <tf.Operation 'random_uniform_15/sub' type=Sub>, <tf.Operation 'random_uniform_15/mul' type=Mul>, <tf.Operation 'random_uniform_15' type=Add>, <tf.Operation 'Sub_2' type=Sub>, <tf.Operation 'LinSpace/start' type=Const>, <tf.Operation 'LinSpace/stop' type=Const>, <tf.Operation 'LinSpace/num' type=Const>, <tf.Operation 'LinSpace' type=LinSpace>, <tf.Operation 'Fill/dims' type=Const>, <tf.Operation 'Fill/value' type=Const>, <tf.Operation 'Fill' type=Fill>, <tf.Operation 'Const_38' type=Const>, <tf.Operation 'Const_39' type=Const>, <tf.Operation 'add_18' type=Add>, <tf.Operation 'random_normal_16/shape' type=Const>, <tf.Operation 'random_normal_16/mean' type=Const>, <tf.Operation 'random_normal_16/stddev' type=Const>, <tf.Operation 'random_normal_16/RandomStandardNormal' type=RandomStandardNormal>, <tf.Operation 'random_normal_16/mul' type=Mul>, <tf.Operation 'random_normal_16' type=Add>, <tf.Operation 'random_uniform_16/shape' type=Const>, <tf.Operation 'random_uniform_16/min' type=Const>, <tf.Operation 'random_uniform_16/max' type=Const>, <tf.Operation 'random_uniform_16/RandomUniform' type=RandomUniform>, <tf.Operation 'random_uniform_16/sub' type=Sub>, <tf.Operation 'random_uniform_16/mul' type=Mul>, <tf.Operation 'random_uniform_16' type=Add>, <tf.Operation 'Sub_3' type=Sub>, <tf.Operation 'LinSpace_1/start' type=Const>, <tf.Operation 'LinSpace_1/stop' type=Const>, <tf.Operation 'LinSpace_1/num' type=Const>, <tf.Operation 'LinSpace_1' type=LinSpace>, <tf.Operation 'Fill_1/dims' type=Const>, <tf.Operation 'Fill_1/value' type=Const>, <tf.Operation 'Fill_1' type=Fill>, <tf.Operation 'Const_40' type=Const>, <tf.Operation 'Const_41' type=Const>, <tf.Operation 'add_19' type=Add>, <tf.Operation 'random_normal_17/shape' type=Const>, <tf.Operation 'random_normal_17/mean' type=Const>, <tf.Operation 'random_normal_17/stddev' type=Const>, <tf.Operation 'random_normal_17/RandomStandardNormal' type=RandomStandardNormal>, <tf.Operation 'random_normal_17/mul' type=Mul>, <tf.Operation 'random_normal_17' type=Add>, <tf.Operation 'random_uniform_17/shape' type=Const>, <tf.Operation 'random_uniform_17/min' type=Const>, <tf.Operation 'random_uniform_17/max' type=Const>, <tf.Operation 'random_uniform_17/RandomUniform' type=RandomUniform>, <tf.Operation 'random_uniform_17/sub' type=Sub>, <tf.Operation 'random_uniform_17/mul' type=Mul>, <tf.Operation 'random_uniform_17' type=Add>, <tf.Operation 'Sub_4' type=Sub>, <tf.Operation 'LinSpace_2/start' type=Const>, <tf.Operation 'LinSpace_2/stop' type=Const>, <tf.Operation 'LinSpace_2/num' type=Const>, <tf.Operation 'LinSpace_2' type=LinSpace>, <tf.Operation 'Fill_2/dims' type=Const>, <tf.Operation 'Fill_2/value' type=Const>, <tf.Operation 'Fill_2' type=Fill>, <tf.Operation 'Mul' type=Mul>, <tf.Operation 'Const_42' type=Const>, <tf.Operation 'Const_43' type=Const>, <tf.Operation 'add_20' type=Add>, <tf.Operation 'random_normal_18/shape' type=Const>, <tf.Operation 'random_normal_18/mean' type=Const>, <tf.Operation 'random_normal_18/stddev' type=Const>, <tf.Operation 'random_normal_18/RandomStandardNormal' type=RandomStandardNormal>, <tf.Operation 'random_normal_18/mul' type=Mul>, <tf.Operation 'random_normal_18' type=Add>, <tf.Operation 'random_uniform_18/shape' type=Const>, <tf.Operation 'random_uniform_18/min' type=Const>, <tf.Operation 'random_uniform_18/max' type=Const>, <tf.Operation 'random_uniform_18/RandomUniform' type=RandomUniform>, <tf.Operation 'random_uniform_18/sub' type=Sub>, <tf.Operation 'random_uniform_18/mul' type=Mul>, <tf.Operation 'random_uniform_18' type=Add>, <tf.Operation 'Sub_5' type=Sub>, <tf.Operation 'LinSpace_3/start' type=Const>, <tf.Operation 'LinSpace_3/stop' type=Const>, <tf.Operation 'LinSpace_3/num' type=Const>, <tf.Operation 'LinSpace_3' type=LinSpace>, <tf.Operation 'Fill_3/dims' type=Const>, <tf.Operation 'Fill_3/value' type=Const>, <tf.Operation 'Fill_3' type=Fill>, <tf.Operation 'Mul_1' type=Mul>, <tf.Operation 'Tensordot/transpose/perm' type=Const>, <tf.Operation 'Tensordot/transpose' type=Transpose>, <tf.Operation 'Tensordot/Reshape/shape' type=Const>, <tf.Operation 'Tensordot/Reshape' type=Reshape>, <tf.Operation 'Tensordot/transpose_1/perm' type=Const>, <tf.Operation 'Tensordot/transpose_1' type=Transpose>, <tf.Operation 'Tensordot/Reshape_1/shape' type=Const>, <tf.Operation 'Tensordot/Reshape_1' type=Reshape>, <tf.Operation 'Tensordot/MatMul' type=MatMul>, <tf.Operation 'Tensordot/shape' type=Const>, <tf.Operation 'Tensordot' type=Reshape>, <tf.Operation 'Const_44' type=Const>, <tf.Operation 'Const_45' type=Const>, <tf.Operation 'add_21' type=Add>, <tf.Operation 'random_normal_19/shape' type=Const>, <tf.Operation 'random_normal_19/mean' type=Const>, <tf.Operation 'random_normal_19/stddev' type=Const>, <tf.Operation 'random_normal_19/RandomStandardNormal' type=RandomStandardNormal>, <tf.Operation 'random_normal_19/mul' type=Mul>, <tf.Operation 'random_normal_19' type=Add>, <tf.Operation 'random_uniform_19/shape' type=Const>, <tf.Operation 'random_uniform_19/min' type=Const>, <tf.Operation 'random_uniform_19/max' type=Const>, <tf.Operation 'random_uniform_19/RandomUniform' type=RandomUniform>, <tf.Operation 'random_uniform_19/sub' type=Sub>, <tf.Operation 'random_uniform_19/mul' type=Mul>, <tf.Operation 'random_uniform_19' type=Add>, <tf.Operation 'Sub_6' type=Sub>, <tf.Operation 'LinSpace_4/start' type=Const>, <tf.Operation 'LinSpace_4/stop' type=Const>, <tf.Operation 'LinSpace_4/num' type=Const>, <tf.Operation 'LinSpace_4' type=LinSpace>, <tf.Operation 'Fill_4/dims' type=Const>, <tf.Operation 'Fill_4/value' type=Const>, <tf.Operation 'Fill_4' type=Fill>, <tf.Operation 'Mul_2' type=Mul>, <tf.Operation 'Tensordot_1/transpose/perm' type=Const>, <tf.Operation 'Tensordot_1/transpose' type=Transpose>, <tf.Operation 'Tensordot_1/Reshape/shape' type=Const>, <tf.Operation 'Tensordot_1/Reshape' type=Reshape>, <tf.Operation 'Tensordot_1/transpose_1/perm' type=Const>, <tf.Operation 'Tensordot_1/transpose_1' type=Transpose>, <tf.Operation 'Tensordot_1/Reshape_1/shape' type=Const>, <tf.Operation 'Tensordot_1/Reshape_1' type=Reshape>, <tf.Operation 'Tensordot_1/MatMul' type=MatMul>, <tf.Operation 'Tensordot_1/shape' type=Const>, <tf.Operation 'Tensordot_1' type=Reshape>, <tf.Operation 'first_val' type=Const>, <tf.Operation 'second_val' type=Const>, <tf.Operation 'add_22' type=Add>, <tf.Operation 'first_val_1' type=Const>, <tf.Operation 'second_val_1' type=Const>, <tf.Operation 'add_23' type=Add>, <tf.Operation 'first_val_2' type=Const>, <tf.Operation 'second_val_2' type=Const>, <tf.Operation 'add_24' type=Add>, <tf.Operation 'zeros_1' type=Const>, <tf.Operation 'first_val_3' type=Const>, <tf.Operation 'second_val_3' type=Const>, <tf.Operation 'add_25' type=Add>, <tf.Operation 'first_val_4' type=Const>, <tf.Operation 'second_val_4' type=Const>, <tf.Operation 'add_26' type=Add>, <tf.Operation 'first_val_5' type=Const>, <tf.Operation 'second_val_5' type=Const>, <tf.Operation 'add_27' type=Add>, <tf.Operation 'first_val_6' type=Const>, <tf.Operation 'second_val_6' type=Const>, <tf.Operation 'add_28' type=Add>, <tf.Operation 'first_val_7' type=Const>, <tf.Operation 'second_val_7' type=Const>, <tf.Operation 'add_29' type=Add>, <tf.Operation 'first_val_8' type=Const>, <tf.Operation 'second_val_8' type=Const>, <tf.Operation 'add_30' type=Add>]\n",
      "Tensor(\"first_val:0\", shape=(), dtype=float32)\n"
     ]
    }
   ],
   "source": [
    "a = tf.constant(2.5, name = \"first_val\")\n",
    "b = tf.constant(4.5, name = 'second_val')\n",
    "sum = a + b;\n",
    "\n",
    "print(tf.get_default_graph().get_operations())\n",
    "print(tf.get_default_graph().get_tensor_by_name('first_val:0'))"
   ]
  },
  {
   "cell_type": "code",
   "execution_count": 42,
   "metadata": {},
   "outputs": [
    {
     "data": {
      "text/plain": [
       "'C:\\\\Users\\\\Daniel Ogbuti\\\\Documents\\\\tensorflow\\\\graph.dat'"
      ]
     },
     "execution_count": 42,
     "metadata": {},
     "output_type": "execute_result"
    }
   ],
   "source": [
    "import os\n",
    "tf.train.write_graph(tf.get_default_graph(), os.getcwd(), 'graph.dat')"
   ]
  },
  {
   "cell_type": "code",
   "execution_count": 47,
   "metadata": {},
   "outputs": [
    {
     "name": "stdout",
     "output_type": "stream",
     "text": [
      "Step 1: Computed result = 0.400000\n",
      "Step 2: Computed result = 0.720000\n",
      "Step 3: Computed result = 0.976000\n",
      "Step 4: Computed result = 1.180800\n",
      "Step 5: Computed result = 1.344640\n",
      "Step 6: Computed result = 1.475712\n",
      "Step 7: Computed result = 1.580570\n",
      "Step 8: Computed result = 1.664456\n",
      "Step 9: Computed result = 1.731565\n",
      "Step 10: Computed result = 1.785252\n",
      "Step 11: Computed result = 1.828201\n",
      "Step 12: Computed result = 1.862561\n",
      "Step 13: Computed result = 1.890049\n",
      "Step 14: Computed result = 1.912039\n",
      "Step 15: Computed result = 1.929631\n",
      "Step 16: Computed result = 1.943705\n",
      "Step 17: Computed result = 1.954964\n",
      "Step 18: Computed result = 1.963971\n",
      "Step 19: Computed result = 1.971177\n",
      "Step 20: Computed result = 1.976941\n",
      "Step 21: Computed result = 1.981553\n",
      "Step 22: Computed result = 1.985243\n",
      "Step 23: Computed result = 1.988194\n",
      "Step 24: Computed result = 1.990555\n",
      "Step 25: Computed result = 1.992444\n",
      "Step 26: Computed result = 1.993955\n",
      "Step 27: Computed result = 1.995164\n",
      "Step 28: Computed result = 1.996131\n",
      "Step 29: Computed result = 1.996905\n",
      "Step 30: Computed result = 1.997524\n",
      "Step 31: Computed result = 1.998019\n",
      "Step 32: Computed result = 1.998415\n",
      "Step 33: Computed result = 1.998732\n",
      "Step 34: Computed result = 1.998986\n",
      "Step 35: Computed result = 1.999189\n",
      "Step 36: Computed result = 1.999351\n",
      "Step 37: Computed result = 1.999481\n",
      "Step 38: Computed result = 1.999585\n",
      "Step 39: Computed result = 1.999668\n",
      "Step 40: Computed result = 1.999734\n",
      "Final x_var: 1.999734\n"
     ]
    }
   ],
   "source": [
    "#define a trainable variable\n",
    "x_var = tf.Variable(0., name = 'x_result')\n",
    "\n",
    "#define an untrainable variable to hold the global step\n",
    "step_var = tf.Variable(0, trainable= False)\n",
    "\n",
    "#express loss in terms of the variable\n",
    "loss = x_var * x_var -4.0 * x_var + 5.0\n",
    "\n",
    "#find variable value that minimizes loss\n",
    "learn_rate = 0.1\n",
    "num_epochs = 40\n",
    "\n",
    "#initialize variables\n",
    "optimizer = tf.train.GradientDescentOptimizer(learn_rate).minimize(loss, global_step = step_var)\n",
    "init = tf.global_variables_initializer()\n",
    "\n",
    "#create the saver\n",
    "\n",
    "saver = tf.train.Saver()\n",
    "\n",
    "\n",
    "#create summary data and FileWriter\n",
    "summary_op = tf.summary.scalar('x', x_var)\n",
    "file_writer = tf.summary.FileWriter('log', graph = tf.get_default_graph())\n",
    "\n",
    "#launch session\n",
    "with tf.Session() as sess:\n",
    "    sess.run(init)\n",
    "    \n",
    "    for epoch in range(num_epochs):\n",
    "        _, step, result, summary = sess.run([optimizer, step_var, x_var, summary_op])\n",
    "        print('Step %d: Computed result = %f' % (step, result))\n",
    "        \n",
    "        #print summary data\n",
    "        file_writer.add_summary(summary, global_step = step)\n",
    "        file_writer.flush()\n",
    "    #store variable data\n",
    "    saver.save(sess, os.getcwd() + '/output')\n",
    "    print('Final x_var: %f' % sess.run(x_var))"
   ]
  },
  {
   "cell_type": "code",
   "execution_count": 51,
   "metadata": {},
   "outputs": [
    {
     "name": "stdout",
     "output_type": "stream",
     "text": [
      "WARNING:tensorflow:From C:\\Users\\Daniel Ogbuti\\Anaconda3\\lib\\site-packages\\tensorflow\\python\\training\\saver.py:1276: checkpoint_exists (from tensorflow.python.training.checkpoint_management) is deprecated and will be removed in a future version.\n",
      "Instructions for updating:\n",
      "Use standard file APIs to check for files with this prefix.\n",
      "INFO:tensorflow:Restoring parameters from C:\\Users\\Daniel Ogbuti\\Documents\\tensorflow/output\n",
      "Variable value:  0.0\n"
     ]
    }
   ],
   "source": [
    "with tf.Session() as sess:\n",
    "    saver = tf.train.import_meta_graph('output.meta')\n",
    "    \n",
    "    saver.restore(sess, os.getcwd() + '/output')\n",
    "    print('Variable value: ', sess.run('x_result:0'))"
   ]
  },
  {
   "cell_type": "code",
   "execution_count": 52,
   "metadata": {},
   "outputs": [
    {
     "name": "stdout",
     "output_type": "stream",
     "text": [
      "WARNING:tensorflow:From C:\\Users\\Daniel Ogbuti\\Anaconda3\\lib\\site-packages\\tensorflow\\python\\ops\\math_grad.py:1205: add_dispatch_support.<locals>.wrapper (from tensorflow.python.ops.array_ops) is deprecated and will be removed in a future version.\n",
      "Instructions for updating:\n",
      "Use tf.where in 2.0, which has the same broadcast rule as np.where\n",
      "m =  2.118289\n",
      "b =  3.0239975\n"
     ]
    }
   ],
   "source": [
    "N = 40\n",
    "x = tf.random_normal([N])\n",
    "m_real = tf.truncated_normal([N], mean = 2.0)\n",
    "b_real = tf.truncated_normal([N], mean = 3.0)\n",
    "y = m_real * x + b_real\n",
    "\n",
    "m = tf.Variable(tf.random_normal([]))\n",
    "b = tf.Variable(tf.random_normal([]))\n",
    "\n",
    "model = tf.add(tf.multiply(x, m), b)\n",
    "loss = tf.reduce_mean(tf.pow(model - y, 2))\n",
    "\n",
    "learn_rate = 0.1\n",
    "num_epochs = 200\n",
    "num_batches = N\n",
    "optimizer = tf.train.GradientDescentOptimizer(learn_rate).minimize(loss)\n",
    "\n",
    "init= tf.global_variables_initializer()\n",
    "\n",
    "with tf.Session() as sess:\n",
    "    sess.run(init)\n",
    "    \n",
    "    for epoch in range(num_epochs):\n",
    "        for batch in range(num_batches):\n",
    "            sess.run(optimizer)\n",
    "            \n",
    "    print('m = ', sess.run(m))\n",
    "    print('b = ', sess.run(b))"
   ]
  },
  {
   "cell_type": "code",
   "execution_count": null,
   "metadata": {},
   "outputs": [],
   "source": []
  }
 ],
 "metadata": {
  "kernelspec": {
   "display_name": "Python 3",
   "language": "python",
   "name": "python3"
  },
  "language_info": {
   "codemirror_mode": {
    "name": "ipython",
    "version": 3
   },
   "file_extension": ".py",
   "mimetype": "text/x-python",
   "name": "python",
   "nbconvert_exporter": "python",
   "pygments_lexer": "ipython3",
   "version": "3.7.3"
  }
 },
 "nbformat": 4,
 "nbformat_minor": 2
}
